{
 "cells": [
  {
   "cell_type": "code",
   "execution_count": 1,
   "metadata": {},
   "outputs": [
    {
     "name": "stdout",
     "output_type": "stream",
     "text": [
      "pedro\n",
      "23\n"
     ]
    }
   ],
   "source": [
    "nombre= \"pedro\"\n",
    "edad= 23\n",
    "\n",
    "print(nombre)\n",
    "print(edad)"
   ]
  },
  {
   "cell_type": "code",
   "execution_count": 10,
   "metadata": {},
   "outputs": [
    {
     "name": "stdout",
     "output_type": "stream",
     "text": [
      "['jose', 'maria', 'pedro', 12, 3, 7, 70]\n"
     ]
    }
   ],
   "source": [
    "# listas\n",
    "# float\n",
    "# strings\n",
    "# \n",
    "list_1=[\"jose\",\"maria\",\"pedro\",12,3,7,70 ]\n",
    "print(list_1)\n",
    "\n",
    "\n"
   ]
  },
  {
   "cell_type": "code",
   "execution_count": 8,
   "metadata": {},
   "outputs": [],
   "source": [
    "list_1[0]\n",
    "# [Start:stop]\n",
    "names_list = list_1[0:4]\n"
   ]
  },
  {
   "cell_type": "code",
   "execution_count": 9,
   "metadata": {},
   "outputs": [],
   "source": [
    "integers_list = list_1 [4:7]\n"
   ]
  },
  {
   "cell_type": "code",
   "execution_count": 11,
   "metadata": {},
   "outputs": [],
   "source": [
    "# float_list = list_1[7:]\n"
   ]
  },
  {
   "cell_type": "code",
   "execution_count": 17,
   "metadata": {},
   "outputs": [
    {
     "name": "stdout",
     "output_type": "stream",
     "text": [
      "['jose', 'maria', 'pedro', 12, 3, 7, 70, 55.5, 55.5, 55.5, 45.1]\n"
     ]
    }
   ],
   "source": [
    "#metodos de listas\n",
    "list_1.append(55.5)\n",
    "list_1.append(45.1)\n",
    "\n",
    "print (list_1)\n"
   ]
  },
  {
   "cell_type": "code",
   "execution_count": 18,
   "metadata": {},
   "outputs": [
    {
     "name": "stdout",
     "output_type": "stream",
     "text": [
      "['jose', 'maria', 'pedro', 12, 3, 7, 70, 55.5, 55.5, 55.5, 45.1]\n"
     ]
    }
   ],
   "source": [
    "list2=list_1.copy()\n",
    "print(list2)"
   ]
  },
  {
   "cell_type": "code",
   "execution_count": null,
   "metadata": {},
   "outputs": [],
   "source": []
  },
  {
   "cell_type": "markdown",
   "metadata": {},
   "source": [
    "### condicionales"
   ]
  },
  {
   "cell_type": "code",
   "execution_count": 21,
   "metadata": {},
   "outputs": [],
   "source": [
    "# sintaxis de un condicional simple\n",
    "# if condicion:\n",
    "  # operacion\n",
    "# condicion\n",
    "# mayor que >\n",
    "# mayor que <\n",
    "# mayor igual >=\n",
    "# menor igual <=\n",
    "# diferente !=\n",
    "# igual? ==\n",
    "\n"
   ]
  },
  {
   "cell_type": "code",
   "execution_count": 26,
   "metadata": {},
   "outputs": [
    {
     "name": "stdout",
     "output_type": "stream",
     "text": [
      "Hoy lunes voy a trabajar\n"
     ]
    }
   ],
   "source": [
    "# operadores logicos\n",
    "# and y or \n",
    "# \n",
    "day = input(\"dia de la semana\")\n",
    "momento= input(\"ingrese momento del dia:\")\n",
    "\n",
    "if (day== \"lunes\") and momento==\"noche\":\n",
    "       print(\"Hoy lunes voy a trabajar\")\n",
    "\n",
    "else: \n",
    "    print(\"no es lunes\")\n"
   ]
  },
  {
   "cell_type": "code",
   "execution_count": 28,
   "metadata": {},
   "outputs": [
    {
     "name": "stdout",
     "output_type": "stream",
     "text": [
      "veo netflix\n"
     ]
    }
   ],
   "source": [
    "\n",
    "# and y or \n",
    "# \n",
    "day = input(\"dia de la semana\")\n",
    "momento= input(\"ingrese momento del dia:\")\n",
    "\n",
    "if (day== \"lunes\") or momento==\"noche\":\n",
    "       print(\"veo netflix\")\n",
    "       \n",
    "\n",
    "else: \n",
    "    print(\"no es lunes\")"
   ]
  }
 ],
 "metadata": {
  "kernelspec": {
   "display_name": "Python 3",
   "language": "python",
   "name": "python3"
  },
  "language_info": {
   "codemirror_mode": {
    "name": "ipython",
    "version": 3
   },
   "file_extension": ".py",
   "mimetype": "text/x-python",
   "name": "python",
   "nbconvert_exporter": "python",
   "pygments_lexer": "ipython3",
   "version": "3.12.4"
  }
 },
 "nbformat": 4,
 "nbformat_minor": 2
}
